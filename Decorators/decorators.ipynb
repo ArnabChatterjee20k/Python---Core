{
 "cells": [
  {
   "cell_type": "code",
   "execution_count": 19,
   "metadata": {},
   "outputs": [
    {
     "name": "stdout",
     "output_type": "stream",
     "text": [
      "#________________#\n",
      "Arnab\n"
     ]
    }
   ],
   "source": [
    "def decorate(f):\n",
    "    def inner():\n",
    "        print(\"#________________#\")\n",
    "        return f()\n",
    "    return inner\n",
    "@decorate\n",
    "def main():\n",
    "    return \"Arnab\"\n",
    "\n",
    "print(main())"
   ]
  },
  {
   "cell_type": "code",
   "execution_count": null,
   "metadata": {},
   "outputs": [],
   "source": [
    "def multiply(f):\n",
    "    def inner(a,b):\n",
    "        print(\"inner\")\n",
    "        print(a,b)\n",
    "        f(a,b)\n",
    "    return inner\n",
    "\n",
    "@multiply\n",
    "def num(a,b):\n",
    "    print(a+b)\n",
    "\n",
    "num(1,2)"
   ]
  },
  {
   "cell_type": "code",
   "execution_count": 24,
   "metadata": {},
   "outputs": [
    {
     "name": "stdout",
     "output_type": "stream",
     "text": [
      "#________________#\n",
      "main_Arnab\n",
      "#________________#\n",
      "sub_arnab\n"
     ]
    }
   ],
   "source": [
    "def decorate(f):\n",
    "    \n",
    "    print(\"#________________#\")\n",
    "    return f()\n",
    "    \n",
    "def main():\n",
    "    return \"main_Arnab\"\n",
    "\n",
    "main_dec = decorate(main)\n",
    "print(main_dec)\n",
    "\n",
    "@decorate\n",
    "def sub():\n",
    "    return \"sub_arnab\"\n",
    "\n",
    "print(sub)"
   ]
  },
  {
   "cell_type": "code",
   "execution_count": 32,
   "metadata": {},
   "outputs": [
    {
     "name": "stdout",
     "output_type": "stream",
     "text": [
      "11\n",
      "True\n"
     ]
    }
   ],
   "source": [
    "def f(x):\n",
    "    z = 2\n",
    "    def g(y):\n",
    "        return z*x + y\n",
    "    return g\n",
    "a = 5\n",
    "b = 1\n",
    "h = f(a) # getting access to inner function. we can say h is now equal to g now as f is returing the inner function g and h = f(a) so h = g\n",
    "print(h(b))\n",
    "print(h(b) == f(a)(b)) "
   ]
  },
  {
   "cell_type": "code",
   "execution_count": null,
   "metadata": {},
   "outputs": [],
   "source": []
  }
 ],
 "metadata": {
  "interpreter": {
   "hash": "eb8030958e8534cf5f54dcfb5586670f54ef94d30bc2602b79d9f24478c23e46"
  },
  "kernelspec": {
   "display_name": "Python 3.9.2 64-bit",
   "language": "python",
   "name": "python3"
  },
  "language_info": {
   "codemirror_mode": {
    "name": "ipython",
    "version": 3
   },
   "file_extension": ".py",
   "mimetype": "text/x-python",
   "name": "python",
   "nbconvert_exporter": "python",
   "pygments_lexer": "ipython3",
   "version": "3.9.2"
  },
  "orig_nbformat": 4
 },
 "nbformat": 4,
 "nbformat_minor": 2
}
