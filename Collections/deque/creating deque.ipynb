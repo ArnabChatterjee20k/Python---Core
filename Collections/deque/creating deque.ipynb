{
 "cells": [
  {
   "cell_type": "code",
   "execution_count": 2,
   "metadata": {},
   "outputs": [],
   "source": [
    "from collections import deque"
   ]
  },
  {
   "cell_type": "markdown",
   "metadata": {},
   "source": [
    "<h1><u>Creating deques</u></h1>"
   ]
  },
  {
   "cell_type": "markdown",
   "metadata": {},
   "source": [
    "<li>Using iterables</li>"
   ]
  },
  {
   "cell_type": "code",
   "execution_count": 4,
   "metadata": {},
   "outputs": [
    {
     "name": "stdout",
     "output_type": "stream",
     "text": [
      "deque(['arnab1', 'arnab2'])\n",
      "deque(['data'])\n",
      "deque(['arnab1', 'arnab2'])\n",
      "deque(['a', 'r', 'n', 'a', 'b'])\n"
     ]
    }
   ],
   "source": [
    "print(deque(iterable=[\"arnab1\",\"arnab2\"])) # list\n",
    "\n",
    "print(deque(iterable={\"data\":[\"arnab1\",\"arnab2\"]})) #dictionary -- only key that is data will get added\n",
    "\n",
    "print(deque(iterable=(\"arnab1\",\"arnab2\"))) # tuple\n",
    "\n",
    "print(deque(iterable=\"arnab\")) # string"
   ]
  },
  {
   "cell_type": "markdown",
   "metadata": {},
   "source": [
    "<li>Using integers</li>"
   ]
  },
  {
   "cell_type": "code",
   "execution_count": 5,
   "metadata": {},
   "outputs": [
    {
     "ename": "TypeError",
     "evalue": "'int' object is not iterable",
     "output_type": "error",
     "traceback": [
      "\u001b[1;31m---------------------------------------------------------------------------\u001b[0m",
      "\u001b[1;31mTypeError\u001b[0m                                 Traceback (most recent call last)",
      "\u001b[1;32m~\\AppData\\Local\\Temp/ipykernel_12956/3591757656.py\u001b[0m in \u001b[0;36m<module>\u001b[1;34m\u001b[0m\n\u001b[1;32m----> 1\u001b[1;33m \u001b[0mprint\u001b[0m\u001b[1;33m(\u001b[0m\u001b[0mdeque\u001b[0m\u001b[1;33m(\u001b[0m\u001b[0miterable\u001b[0m\u001b[1;33m=\u001b[0m\u001b[1;36m1\u001b[0m\u001b[1;33m)\u001b[0m\u001b[1;33m)\u001b[0m \u001b[1;31m# Numbers\u001b[0m\u001b[1;33m\u001b[0m\u001b[1;33m\u001b[0m\u001b[0m\n\u001b[0m",
      "\u001b[1;31mTypeError\u001b[0m: 'int' object is not iterable"
     ]
    }
   ],
   "source": [
    "print(deque(iterable=1)) # Numbers"
   ]
  },
  {
   "cell_type": "markdown",
   "metadata": {},
   "source": [
    "<p style=\"color:blue\"><b>So we need to use any iterable to make deques</b></p>"
   ]
  },
  {
   "cell_type": "markdown",
   "metadata": {},
   "source": [
    "<li>Using maxlen property to limit the number of elements</li>\n",
    "\n",
    "<p>If maxlen value reached then values will get automatically from the other end. If element is getting added to right then elements from the left side will start getting removed</p>"
   ]
  },
  {
   "cell_type": "code",
   "execution_count": 7,
   "metadata": {},
   "outputs": [
    {
     "name": "stdout",
     "output_type": "stream",
     "text": [
      "deque(['A', 'b'], maxlen=2)\n"
     ]
    }
   ],
   "source": [
    "print(deque(iterable=\"arnAb\",maxlen=2)) # string.\n",
    "# only last "
   ]
  },
  {
   "cell_type": "markdown",
   "metadata": {},
   "source": [
    "Here last A b of the right side is present and from the left side the elements start getting removed"
   ]
  },
  {
   "cell_type": "markdown",
   "metadata": {},
   "source": []
  }
 ],
 "metadata": {
  "interpreter": {
   "hash": "eb8030958e8534cf5f54dcfb5586670f54ef94d30bc2602b79d9f24478c23e46"
  },
  "kernelspec": {
   "display_name": "Python 3.9.2 64-bit",
   "language": "python",
   "name": "python3"
  },
  "language_info": {
   "codemirror_mode": {
    "name": "ipython",
    "version": 3
   },
   "file_extension": ".py",
   "mimetype": "text/x-python",
   "name": "python",
   "nbconvert_exporter": "python",
   "pygments_lexer": "ipython3",
   "version": "3.9.2"
  },
  "orig_nbformat": 4
 },
 "nbformat": 4,
 "nbformat_minor": 2
}
